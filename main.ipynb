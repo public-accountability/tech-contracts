{
 "cells": [
  {
   "cell_type": "code",
   "execution_count": 1,
   "id": "2581c8b5-ab35-4d5a-9a0f-8f9d23b7db7d",
   "metadata": {},
   "outputs": [],
   "source": [
    "import json\n",
    "import os\n",
    "import glob\n",
    "import urllib\n",
    "import functools\n",
    "import numpy as np\n",
    "import pandas as pd"
   ]
  },
  {
   "cell_type": "code",
   "execution_count": 2,
   "id": "dd87b6cc-3c5b-42a8-8c6e-f81f4d0976be",
   "metadata": {},
   "outputs": [],
   "source": [
    "# Downloads contract json files and loads it into DATA\n",
    "\n",
    "if not os.path.exists(\"data\"):\n",
    "    os.makedirs(\"data\")\n",
    "    \n",
    "for url in (\n",
    "    \"https://techinquiry.org/SiliconValley-Military/subcontracts/microsoft_cloud.json\",\n",
    "    \"https://techinquiry.org/SiliconValley-Military/subcontracts/microsoft_noncloud.json\",\n",
    "    \"https://techinquiry.org/SiliconValley-Military/subcontracts/amazon.json\",\n",
    "    \"https://techinquiry.org/SiliconValley-Military/subcontracts/google.json\",\n",
    "    \"https://techinquiry.org/SiliconValley-Military/subcontracts/facebook.json\",\n",
    "    \"https://techinquiry.org/SiliconValley-Military/subcontracts/nvidia.json\",\n",
    "    \"https://techinquiry.org/SiliconValley-Military/subcontracts/twitter.json\",\n",
    "    \"https://techinquiry.org/SiliconValley-Military/subcontracts/palantir.json\",\n",
    "    \"https://techinquiry.org/SiliconValley-Military/subcontracts/ida.json\",\n",
    "    \"https://techinquiry.org/SiliconValley-Military/subcontracts/mitre.json\",\n",
    "    \"https://techinquiry.org/SiliconValley-Military/subcontracts/johns_hopkins.json\"\n",
    "):\n",
    "    \n",
    "    path = os.path.join('./data/', url.split('/')[-1])\n",
    "\n",
    "    if not os.path.isfile(path):\n",
    "        urllib.request.urlretrieve(url, path)\n",
    "\n",
    "DATA = {}\n",
    "\n",
    "for path in glob.glob('./data/*.json'):\n",
    "    company_name = os.path.splitext(os.path.basename(path))[0]\n",
    "    \n",
    "    with open(path, 'r') as f:\n",
    "        DATA[company_name] = json.load(f)\n",
    "    \n"
   ]
  },
  {
   "cell_type": "code",
   "execution_count": 20,
   "id": "8f79da42-19bf-4d06-8695-8b0b09b4a596",
   "metadata": {},
   "outputs": [],
   "source": [
    "# flatten data in a map of company name to list of contracts\n",
    "# adds \"passthrough_amount\" using the \"estimated_passthrough_rate\"\n",
    "\n",
    "CONTRACTS = {}\n",
    "\n",
    "for company in DATA.keys():\n",
    "    company_contracts = []\n",
    "    \n",
    "    for intermediary in DATA[company]:\n",
    "        for agency in DATA[company][intermediary]:\n",
    "            for contract in DATA[company][intermediary][agency]:\n",
    "\n",
    "                # json data uses two different keys -- mistake in original data?\n",
    "                if \"estimated_passthrough_percent\" in contract:\n",
    "                    passthrough_key = \"estimated_passthrough_percent\"\n",
    "                else:\n",
    "                    passthrough_key = \"estimated_passthrough_rate\"\n",
    "                                \n",
    "                company_contracts.append(\n",
    "                    contract | \n",
    "                    { \"intermediary\": intermediary, \"agency\":  agency } |\n",
    "                    { \"passthrough_amount\": (float(contract[passthrough_key]) / 100) * float(contract[\"base_and_all_options_value\"]) }\n",
    "                )\n",
    "    \n",
    "    CONTRACTS[company] = company_contracts\n"
   ]
  },
  {
   "cell_type": "code",
   "execution_count": 19,
   "id": "b6278260-d651-4acb-afa7-d1c6959e5fcd",
   "metadata": {},
   "outputs": [
    {
     "data": {
      "text/plain": [
       "{'microsoft_cloud': '$14,906,389,278.88',\n",
       " 'microsoft_noncloud': '$4,217,538,894.55',\n",
       " 'amazon': '$163,221,830.57',\n",
       " 'google': '$32,412,607.80',\n",
       " 'nvidia': '$7,791,968.60',\n",
       " 'palantir': '$7,669,369.97',\n",
       " 'facebook': '$2,895,770.61',\n",
       " 'twitter': '$805,161.79',\n",
       " 'mitre': '$741,910.26',\n",
       " 'ida': '$205,353.67',\n",
       " 'johns_hopkins': '$27,857.50'}"
      ]
     },
     "execution_count": 19,
     "metadata": {},
     "output_type": "execute_result"
    }
   ],
   "source": [
    "stats = {}\n",
    "\n",
    "for company, contracts in CONTRACTS.items():\n",
    "        stats[company] = sum(map(lambda x: x[\"passthrough_amount\"], contracts))\n",
    "\n",
    "# sort by amount \n",
    "stats = dict(sorted(stats.items(), key=lambda x: x[1], reverse=True))\n",
    "\n",
    "# format as currency string\n",
    "{k: '${:0,.2f}'.format(v) for k, v in stats.items()}\n"
   ]
  },
  {
   "cell_type": "code",
   "execution_count": 5,
   "id": "4c249832-e996-453c-b3a3-65a7361753f2",
   "metadata": {},
   "outputs": [
    {
     "data": {
      "text/plain": [
       "{'microsoft_cloud': '$19,904,206,668.23',\n",
       " 'microsoft_noncloud': '$5,647,780,024.40',\n",
       " 'amazon': '$291,237,334.80',\n",
       " 'google': '$68,046,317.56',\n",
       " 'nvidia': '$31,742,561.60',\n",
       " 'palantir': '$11,798,965.21',\n",
       " 'facebook': '$6,833,447.03',\n",
       " 'twitter': '$5,710,057.53',\n",
       " 'mitre': '$2,967,641.04',\n",
       " 'ida': '$273,804.89',\n",
       " 'johns_hopkins': '$55,715.00'}"
      ]
     },
     "execution_count": 5,
     "metadata": {},
     "output_type": "execute_result"
    }
   ],
   "source": []
  },
  {
   "cell_type": "code",
   "execution_count": null,
   "id": "a74caaa9-3d09-400e-9a67-81e8525f2a0d",
   "metadata": {},
   "outputs": [],
   "source": []
  }
 ],
 "metadata": {
  "kernelspec": {
   "display_name": "Python 3",
   "language": "python",
   "name": "python3"
  },
  "language_info": {
   "codemirror_mode": {
    "name": "ipython",
    "version": 3
   },
   "file_extension": ".py",
   "mimetype": "text/x-python",
   "name": "python",
   "nbconvert_exporter": "python",
   "pygments_lexer": "ipython3",
   "version": "3.9.2"
  }
 },
 "nbformat": 4,
 "nbformat_minor": 5
}
