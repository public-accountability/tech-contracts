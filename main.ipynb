{
 "cells": [
  {
   "cell_type": "code",
   "execution_count": 15,
   "id": "2581c8b5-ab35-4d5a-9a0f-8f9d23b7db7d",
   "metadata": {},
   "outputs": [],
   "source": [
    "import json\n",
    "import os\n",
    "import glob\n",
    "import urllib\n",
    "import functools\n",
    "import numpy as np\n",
    "import pandas as pd"
   ]
  },
  {
   "cell_type": "code",
   "execution_count": 2,
   "id": "dd87b6cc-3c5b-42a8-8c6e-f81f4d0976be",
   "metadata": {},
   "outputs": [],
   "source": [
    "# Downloads contract json files and loads it into DATA\n",
    "\n",
    "if not os.path.exists(\"data\"):\n",
    "    os.makedirs(\"data\")\n",
    "    \n",
    "for url in (\n",
    "    \"https://techinquiry.org/SiliconValley-Military/subcontracts/microsoft_cloud.json\",\n",
    "    \"https://techinquiry.org/SiliconValley-Military/subcontracts/microsoft_noncloud.json\",\n",
    "    \"https://techinquiry.org/SiliconValley-Military/subcontracts/amazon.json\",\n",
    "    \"https://techinquiry.org/SiliconValley-Military/subcontracts/google.json\",\n",
    "    \"https://techinquiry.org/SiliconValley-Military/subcontracts/facebook.json\",\n",
    "    \"https://techinquiry.org/SiliconValley-Military/subcontracts/nvidia.json\",\n",
    "    \"https://techinquiry.org/SiliconValley-Military/subcontracts/twitter.json\",\n",
    "    \"https://techinquiry.org/SiliconValley-Military/subcontracts/palantir.json\",\n",
    "    \"https://techinquiry.org/SiliconValley-Military/subcontracts/ida.json\",\n",
    "    \"https://techinquiry.org/SiliconValley-Military/subcontracts/mitre.json\",\n",
    "    \"https://techinquiry.org/SiliconValley-Military/subcontracts/johns_hopkins.json\"\n",
    "):\n",
    "    \n",
    "    path = os.path.join('./data/', url.split('/')[-1])\n",
    "\n",
    "    if not os.path.isfile(path):\n",
    "        urllib.request.urlretrieve(url, path)\n",
    "\n",
    "DATA = {}\n",
    "\n",
    "for path in glob.glob('./data/*.json'):\n",
    "    company_name = os.path.splitext(os.path.basename(path))[0]\n",
    "    \n",
    "    with open(path, 'r') as f:\n",
    "        DATA[company_name] = json.load(f)\n",
    "    \n"
   ]
  },
  {
   "cell_type": "code",
   "execution_count": 3,
   "id": "8f79da42-19bf-4d06-8695-8b0b09b4a596",
   "metadata": {},
   "outputs": [],
   "source": [
    "# flatten data in a map of company name to list of contracts\n",
    "\n",
    "CONTRACTS = {}\n",
    "\n",
    "for company in DATA.keys():\n",
    "    company_contracts = []\n",
    "    \n",
    "    for intermediary in DATA[company]:\n",
    "        for agency in DATA[company][intermediary]:\n",
    "            for contract in DATA[company][intermediary][agency]:\n",
    "                company_contracts.append(contract | { \"intermediary\": intermediary, \"agency\":  agency })\n",
    "    \n",
    "    CONTRACTS[company] = company_contracts\n",
    "\n",
    "    \n"
   ]
  },
  {
   "cell_type": "code",
   "execution_count": 16,
   "id": "b6278260-d651-4acb-afa7-d1c6959e5fcd",
   "metadata": {},
   "outputs": [
    {
     "data": {
      "text/plain": [
       "{'nvidia': '$31,742,561.60',\n",
       " 'microsoft_noncloud': '$5,647,780,024.40',\n",
       " 'google': '$68,046,317.56',\n",
       " 'palantir': '$11,798,965.21',\n",
       " 'amazon': '$291,237,334.80',\n",
       " 'twitter': '$5,710,057.53',\n",
       " 'johns_hopkins': '$55,715.00',\n",
       " 'microsoft_cloud': '$19,904,206,668.23',\n",
       " 'mitre': '$2,967,641.04',\n",
       " 'facebook': '$6,833,447.03',\n",
       " 'ida': '$273,804.89'}"
      ]
     },
     "execution_count": 16,
     "metadata": {},
     "output_type": "execute_result"
    }
   ],
   "source": [
    "# Summary of base_and_all_options_value\n",
    "\n",
    "stats = {}\n",
    "\n",
    "sumkey = \"base_and_all_options_value\"\n",
    "\n",
    "for company, contracts in CONTRACTS.items():\n",
    "        amount = sum(map(lambda x: float(x[sumkey]), contracts))\n",
    "        stats[company] =  '${:0,.2f}'.format(amount)\n",
    "\n",
    "\n",
    "stats"
   ]
  },
  {
   "cell_type": "code",
   "execution_count": null,
   "id": "4c249832-e996-453c-b3a3-65a7361753f2",
   "metadata": {},
   "outputs": [],
   "source": []
  }
 ],
 "metadata": {
  "kernelspec": {
   "display_name": "Python 3",
   "language": "python",
   "name": "python3"
  },
  "language_info": {
   "codemirror_mode": {
    "name": "ipython",
    "version": 3
   },
   "file_extension": ".py",
   "mimetype": "text/x-python",
   "name": "python",
   "nbconvert_exporter": "python",
   "pygments_lexer": "ipython3",
   "version": "3.9.2"
  }
 },
 "nbformat": 4,
 "nbformat_minor": 5
}
